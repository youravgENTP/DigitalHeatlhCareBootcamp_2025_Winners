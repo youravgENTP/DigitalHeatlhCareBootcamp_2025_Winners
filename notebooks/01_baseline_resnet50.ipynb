{
 "cells":[
  {
   "cell_type":"code",
   "metadata":{},
   "source":[
    "import torch\n",
    "import numpy as np\n",
    "from torch.utils.data import DataLoader\n",
    "from CustomDataset import CustomImageDataset\n",
    "from Models import ResNet50, ResNet101, ResNet50_MCDropout\n",
    "from utils.Plots import plot_confusion, plot_roc, reliability_diagram, expected_calibration_error, brier_score, entropy_hist"
   ]
  },
  {
   "cell_type":"code",
   "metadata":{},
   "source":[
    "# Configuration\n",
    "mode = \"Binary\"\n",
    "model_name = \"resnet50\"\n",
    "epochs = 10\n",
    "batch_size = 32\n",
    "seed = 777\n",
    "save_dir = \"results/baseline\""
   ]
  },
  {
   "cell_type":"code",
   "metadata":{},
   "source":[
    "# Dataset sanity check\n",
    "ds_train = CustomImageDataset(mode=mode, build_div='train')\n",
    "ds_val   = CustomImageDataset(mode=mode, build_div='val')\n",
    "ds_test  = CustomImageDataset(mode=mode, build_div='test')\n",
    "print(f\"Train: {len(ds_train)}, Val: {len(ds_val)}, Test: {len(ds_test)}\")"
   ]
  },
  {
   "cell_type":"code",
   "metadata":{},
   "source":[
    "# Model instantiation\n",
    "model = ResNet50(input_channel=3, label_num=1)\n",
    "model"
   ]
  },
  {
   "cell_type":"code",
   "metadata":{},
   "source":[
    "# Training\n",
    "device = torch.device('cuda' if torch.cuda.is_available() else 'cpu')\n",
    "train_loader = DataLoader(ds_train, batch_size=batch_size, shuffle=True)\n",
    "val_loader   = DataLoader(ds_val, batch_size=batch_size, shuffle=False)\n",
    "model = model.to(device)\n",
    "import torch.nn as nn, torch.optim as optim\n",
    "optimizer = optim.Adam(model.parameters(), lr=1e-4)\n",
    "criterion = nn.BCEWithLogitsLoss()\n",
    "for epoch in range(1, epochs + 1):\n",
    "    model.train()\n",
    "    total_loss = 0.0\n",
    "    correct = 0\n",
    "    for imgs, labels in train_loader:\n",
    "        imgs, labels = imgs.to(device), labels.to(device).float().unsqueeze(1)\n",
    "        preds = model(imgs)\n",
    "        loss = criterion(preds, labels)\n",
    "        optimizer.zero_grad()\n",
    "        loss.backward()\n",
    "        optimizer.step()\n",
    "        total_loss += loss.item()\n",
    "        correct += ((torch.sigmoid(preds) >= 0.5).int() == labels.int()).sum().item()\n",
    "    avg_loss = total_loss / len(train_loader)\n",
    "    acc = correct / len(ds_train)\n",
    "    print(f\"Epoch {epoch}/{epochs}: Loss={avg_loss:.4f}, Acc={acc:.4f}\")"
   ]
  },
  {
   "cell_type":"code",
   "metadata":{},
   "source":[
    "# Validation & Save\n",
    "model.eval()\n",
    "val_loss = 0.0\n",
    "correct = 0\n",
    "with torch.no_grad():\n",
    "    for imgs, labels in val_loader:\n",
    "        imgs, labels = imgs.to(device), labels.to(device).float().unsqueeze(1)\n",
    "        preds = model(imgs)\n",
    "        loss = criterion(preds, labels)\n",
    "        val_loss += loss.item()\n",
    "        correct += ((torch.sigmoid(preds) >= 0.5).int() == labels.int()).sum().item()\n",
    "print(f\"Val Loss: {val_loss/len(val_loader):.4f}, Val Acc: {correct/len(ds_val):.4f}\")\n",
    "import os\n",
    "os.makedirs(save_dir, exist_ok=True)\n",
    "torch.save(model.state_dict(), f\"{save_dir}/best_{model_name}.pt\")\n",
    "print(\"Saved model to\", f\"{save_dir}/best_{model_name}.pt\")"
   ]
  },
  {
   "cell_type":"code",
   "metadata":{},
   "source":[
    "# Evaluation & Calibration\n",
    "test_loader = DataLoader(ds_test, batch_size=batch_size, shuffle=False)\n",
    "model.load_state_dict(torch.load(f\"{save_dir}/best_{model_name}.pt\", map_location=device))\n",
    "model.eval()\n",
    "all_labels, all_probs = [], []\n",
    "with torch.no_grad():\n",
    "    for imgs, labels in test_loader:\n",
    "        preds = model(imgs.to(device)).squeeze(1)\n",
    "        probs = torch.sigmoid(preds).cpu().numpy()\n",
    "        all_probs.extend(probs)\n",
    "        all_labels.extend(labels.numpy())\n",
    "plot_confusion(all_labels, np.array(all_probs)>=0.5)\n",
    "plot_roc(all_labels, np.array(all_probs))\n",
    "reliability_diagram(all_labels, np.array(all_probs))\n",
    "print(\"ECE:\", expected_calibration_error(all_labels, np.array(all_probs)))\n",
    "print(\"Brier Score:\", brier_score(all_labels, np.array(all_probs)))\n",
    "entropy_hist(np.array(all_probs))"
   ]
  }
 ],
 "metadata":{"language_info":{"name":"python"}},
 "nbformat":4,"nbformat_minor":5
}
