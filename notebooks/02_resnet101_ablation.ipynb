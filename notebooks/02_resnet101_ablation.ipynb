{ "nbformat":4,"nbformat_minor":5,
 "metadata":{"kernelspec":{"name":"python3","display_name":"Python 3"},"language_info":{"name":"python","version":"3.10"}},
 "cells":[
  {"cell_type":"code","execution_count":null,"metadata":{},"outputs":[],"source":[
    "import torch\n","import numpy as np\n","from torch.utils.data import DataLoader\n",
    "from CustomDataset import CustomImageDataset\n","from Models import ResNet101\n",
    "from utils.Plots import plot_confusion, plot_roc, reliability_diagram,\n",
    "    expected_calibration_error, brier_score, entropy_hist"
  ]},
  {"cell_type":"code","execution_count":null,"metadata":{},"outputs":[],"source":[
    "# Config\n","mode = 'Binary'\n","model_name = 'resnet101'\n","epochs=10\n","batch_size=32\n",
    "seed=777\n","save_dir='results/resnet101'"
  ]},
  {"cell_type":"code","execution_count":null,"metadata":{},"outputs":[],"source":[
    "# Dataset sanity check\n","ds_train=CustomImageDataset(mode=mode,build_div='train')\n",
    "ds_val=CustomImageDataset(mode=mode,build_div='val')\n","ds_test=CustomImageDataset(mode=mode,build_div='test')\n",
    "print(len(ds_train),len(ds_val),len(ds_test))"
  ]},
  {"cell_type":"code","execution_count":null,"metadata":{},"outputs":[],"source":[
    "# Build model\n","model=ResNet101(input_channel=3,label_num=1)\n","model"
  ]},
  {"cell_type":"code","execution_count":null,"metadata":{},"outputs":[],"source":[
    "# Training loop ... (same as baseline but resnet101)\n","import torch.nn as nn, torch.optim as optim, os\n",
    "device=torch.device('cuda' if torch.cuda.is_available() else 'cpu')\n","model.to(device)\n",
    "train_loader=DataLoader(ds_train,batch_size=batch_size,shuffle=True)\n",
    "val_loader=DataLoader(ds_val,batch_size=batch_size)\n","criterion=nn.BCEWithLogitsLoss()\n",
    "opt=optim.Adam(model.parameters(),lr=1e-4)\n",
    "for ep in range(1,epochs+1):\n","    model.train();losses=0;correct=0\n",
    "    for x,y in train_loader:\n","        x,y=x.to(device),y.to(device).float().unsqueeze(1)\n",
    "        out=model(x);loss=criterion(out,y)\n","        opt.zero_grad();loss.backward();opt.step()\n",
    "        losses+=loss.item();correct+=((torch.sigmoid(out)>=0.5).int()==y.int()).sum().item()\n",
    "    print(ep,losses/len(train_loader),correct/len(ds_train))"
  ]},
  {"cell_type":"code","execution_count":null,"metadata":{},"outputs":[],"source":[
    "# Save and Eval\n","torch.save(model.state_dict(),f\"{save_dir}/best_resnet101.pt\")"
  ]}
 ]}
