{
 "nbformat": 4,
 "nbformat_minor": 5,
 "metadata": {
  "kernelspec": {"name": "python3","display_name": "Python 3"},
  "language_info": {"name": "python","version": "3.10"}
 },
 "cells":[
  {
   "cell_type":"code",
   "id":"imports",
   "metadata":{},
   "execution_count":null,
   "outputs":[],
   "source":[
    "import torch",
    "import numpy as np",
    "from torch.utils.data import DataLoader",
    "from CustomDataset import CustomImageDataset",
    "from Models import ResNet50, ResNet101, ResNet50_MCDropout",
    "from utils.Plots import (",
    "    plot_confusion, plot_roc, reliability_diagram,",
    "    expected_calibration_error, brier_score, entropy_hist",
    ")"
   ]
  },
  {
   "cell_type":"code",
   "id":"config",
   "metadata":{},
   "execution_count":null,
   "outputs":[],
   "source":[
    "# Configuration",
    "mode = \"Binary\"",
    "model_name = \"resnet101\"",
    "epochs = 10",
    "batch_size = 32",
    "seed = 777",
    "save_dir = \"results/resnet101\""
   ]
  },
  {
   "cell_type":"code",
   "id":"sanity-check",
   "metadata":{},
   "execution_count":null,
   "outputs":[],
   "source":[
    "ds_train = CustomImageDataset(mode=mode, build_div='train')",
    "ds_val   = CustomImageDataset(mode=mode, build_div='val')",
    "ds_test  = CustomImageDataset(mode=mode, build_div='test')",
    "print(f\"Train: {len(ds_train)}, Val: {len(ds_val)}, Test: {len(ds_test)}\")"
   ]
  },
  {
   "cell_type":"code",
   "id":"build-model",
   "metadata":{},
   "execution_count":null,
   "outputs":[],
   "source":[
    "# Model instantiation (ResNet101)",
    "model = ResNet101(input_channel=3, label_num=1)",
    "model"
   ]
  },
  {
   "cell_type":"code",
   "id":"train",
   "metadata":{},
   "execution_count":null,
   "outputs":[],
   "source":[
    "# Training Loop",
    "import os",
    "import torch.nn as nn",
    "import torch.optim as optim",
    "os.makedirs(save_dir, exist_ok=True)",
    "torch.manual_seed(seed); np.random.seed(seed)",
    "device = torch.device(\"cuda\" if torch.cuda.is_available() else \"cpu\")",
    "model = model.to(device)",
    "train_loader = DataLoader(ds_train, batch_size=batch_size, shuffle=True)",
    "val_loader   = DataLoader(ds_val, batch_size=batch_size, shuffle=False)",
    "criterion = nn.BCEWithLogitsLoss()",
    "optimizer = optim.Adam(model.parameters(), lr=1e-4)",
    "for epoch in range(1, epochs + 1):",
    "    model.train(); total, corr = 0.0, 0",
    "    for x, y in train_loader:",
    "        x, y = x.to(device), y.to(device).float().unsqueeze(1)",
    "        logits = model(x)",
    "        loss = criterion(logits, y)",
    "        optimizer.zero_grad(); loss.backward(); optimizer.step()",
    "        total += loss.item(); corr += ((torch.sigmoid(logits) >= 0.5).int() == y.int()).sum().item()",
    "    print(f\"Epoch {epoch}/{epochs} loss={total/len(train_loader):.4f} acc={corr/len(ds_train):.4f}\")"
   ]
  },
  {
   "cell_type":"code",
   "id":"validate-save",
   "metadata":{},
   "execution_count":null,
   "outputs":[],
   "source":[
    "# Validate & Save",
    "model.eval(); val_loss, corr = 0.0, 0",
    "with torch.no_grad():",
    "    for x, y in val_loader:",
    "        x, y = x.to(device), y.to(device).float().unsqueeze(1)",
    "        logits = model(x)",
    "        val_loss += criterion(logits, y).item()",
    "        corr += ((torch.sigmoid(logits) >= 0.5).int() == y.int()).sum().item()",
    "print(f\"Val loss={val_loss/len(val_loader):.4f} acc={corr/len(ds_val):.4f}\")",
    "torch.save(model.state_dict(), f\"{save_dir}/best_{model_name}.pt\")",
    "print(\"Saved:\", f\"{save_dir}/best_{model_name}.pt\")"
   ]
  },
  {
   "cell_type":"code",
   "id":"evaluate",
   "metadata":{},
   "execution_count":null,
   "outputs":[],
   "source":[
    "# Evaluate & Calibrate",
    "test_loader = DataLoader(ds_test, batch_size=batch_size, shuffle=False)",
    "model.load_state_dict(torch.load(f\"{save_dir}/best_{model_name}.pt\", map_location=device))",
    "model.eval()",
    "ys, ps = [], []",
    "with torch.no_grad():",
    "    for x, y in test_loader:",
    "        p = torch.sigmoid(model(x.to(device)).squeeze(1)).cpu().numpy()",
    "        ps.extend(p); ys.extend(y.numpy())",
    "ys = np.array(ys); ps = np.array(ps)",
    "plot_confusion(ys, (ps >= 0.5).astype(int))",
    "plot_roc(ys, ps)",
    "reliability_diagram(ys, ps)",
    "print(\"ECE:\", expected_calibration_error(ys, ps))",
    "print(\"Brier:\", brier_score(ys, ps))",
    "_ = entropy_hist(ps)"
   ]
  }
 ]
}
