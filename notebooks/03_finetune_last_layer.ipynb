{ "nbformat":4,"nbformat_minor":5,
 "metadata":{"kernelspec":{"name":"python3","display_name":"Python 3"},"language_info":{"name":"python","version":"3.10"}},
 "cells":[
  {"cell_type":"code","execution_count":null,"metadata":{},"outputs":[],"source":[
    "import torch,torch.nn as nn,torch.optim as optim,os\n","import numpy as np\n",
    "from torch.utils.data import DataLoader\n","from CustomDataset import CustomImageDataset\n",
    "from Models import ResNet50\n","from utils.Plots import plot_confusion,plot_roc,reliability_diagram,\n",
    " expected_calibration_error,brier_score,entropy_hist"
  ]},
  {"cell_type":"code","execution_count":null,"metadata":{},"outputs":[],"source":[
    "# Config\n","mode='Binary'\n","model_name='resnet50_lastlayer'\n","epochs=10\n","batch_size=32\n","save_dir='results/finetune_lastlayer'"
  ]},
  {"cell_type":"code","execution_count":null,"metadata":{},"outputs":[],"source":[
    "# Dataset\n","ds_train=CustomImageDataset(mode=mode,build_div='train')\n","ds_val=CustomImageDataset(mode=mode,build_div='val')"
  ]},
  {"cell_type":"code","execution_count":null,"metadata":{},"outputs":[],"source":[
    "# Finetune last linear layer only\n","model=ResNet50(input_channel=3,label_num=1)\n","for p in model.parameters(): p.requires_grad=False\n",
    "for p in model.linear.parameters(): p.requires_grad=True\n","model"
  ]},
  {"cell_type":"code","execution_count":null,"metadata":{},"outputs":[],"source":[
    "# Train loop similar to baseline, optimizer=Adam(model.linear.parameters())"
  ]}
 ]}
